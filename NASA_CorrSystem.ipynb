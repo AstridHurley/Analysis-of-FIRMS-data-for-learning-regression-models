{
  "nbformat": 4,
  "nbformat_minor": 0,
  "metadata": {
    "colab": {
      "name": "NASA_CorrSystem.ipynb",
      "provenance": [],
      "collapsed_sections": []
    },
    "kernelspec": {
      "name": "python3",
      "display_name": "Python 3"
    }
  },
  "cells": [
    {
      "cell_type": "markdown",
      "metadata": {
        "id": "30hvkCRwwBaO"
      },
      "source": [
        "# Datos Basados por la NASA\n",
        "https://earthdata.nasa.gov/earth-observation-data/near-real-time/firms/c6-mcd14dl#ed-firms-attributes\n"
      ]
    },
    {
      "cell_type": "code",
      "metadata": {
        "id": "K46ALZ-ICLXa"
      },
      "source": [
        "# This Python 3 environment comes with many helpful analytics libraries installed\n",
        "# It is defined by the kaggle/python docker image: https://github.com/kaggle/docker-python\n",
        "# For example, here's several helpful packages to load in \n",
        "\n",
        "import numpy as np # linear algebra\n",
        "import pandas as pd # data processing, CSV file I/O (e.g. pd.read_csv)\n",
        "import seaborn as sns\n",
        "import matplotlib.pyplot as plt\n",
        "from sklearn.feature_selection import RFE\n",
        "from sklearn.ensemble import ExtraTreesRegressor\n",
        "from sklearn.linear_model import LinearRegression\n",
        "from sklearn.linear_model import Lasso\n",
        "from sklearn.linear_model import Ridge\n",
        "from sklearn.metrics import explained_variance_score\n",
        "from sklearn.metrics import mean_absolute_error\n",
        "from sklearn.neighbors import KNeighborsRegressor\n",
        "from sklearn.ensemble import RandomForestRegressor\n",
        "from sklearn.svm import SVR"
      ],
      "execution_count": 1,
      "outputs": []
    },
    {
      "cell_type": "code",
      "metadata": {
        "id": "YmrNiQuyCNe2",
        "outputId": "6e3c66ce-cfcc-4363-d95c-28ada5f76d85",
        "colab": {
          "base_uri": "https://localhost:8080/",
          "height": 226
        }
      },
      "source": [
        "dataset = pd.read_csv('fire_nrt_J1V-C2_157472.csv')\n",
        "dataset.head()"
      ],
      "execution_count": 2,
      "outputs": [
        {
          "output_type": "execute_result",
          "data": {
            "text/html": [
              "<div>\n",
              "<style scoped>\n",
              "    .dataframe tbody tr th:only-of-type {\n",
              "        vertical-align: middle;\n",
              "    }\n",
              "\n",
              "    .dataframe tbody tr th {\n",
              "        vertical-align: top;\n",
              "    }\n",
              "\n",
              "    .dataframe thead th {\n",
              "        text-align: right;\n",
              "    }\n",
              "</style>\n",
              "<table border=\"1\" class=\"dataframe\">\n",
              "  <thead>\n",
              "    <tr style=\"text-align: right;\">\n",
              "      <th></th>\n",
              "      <th>latitude</th>\n",
              "      <th>longitude</th>\n",
              "      <th>brightness</th>\n",
              "      <th>scan</th>\n",
              "      <th>track</th>\n",
              "      <th>acq_date</th>\n",
              "      <th>acq_time</th>\n",
              "      <th>satellite</th>\n",
              "      <th>instrument</th>\n",
              "      <th>confidence</th>\n",
              "      <th>version</th>\n",
              "      <th>bright_t31</th>\n",
              "      <th>frp</th>\n",
              "      <th>daynight</th>\n",
              "    </tr>\n",
              "  </thead>\n",
              "  <tbody>\n",
              "    <tr>\n",
              "      <th>0</th>\n",
              "      <td>8.46846</td>\n",
              "      <td>-80.58140</td>\n",
              "      <td>334.2</td>\n",
              "      <td>0.48</td>\n",
              "      <td>0.40</td>\n",
              "      <td>2020-01-03</td>\n",
              "      <td>1854</td>\n",
              "      <td>1</td>\n",
              "      <td>VIIRS</td>\n",
              "      <td>n</td>\n",
              "      <td>2.0NRT</td>\n",
              "      <td>300.5</td>\n",
              "      <td>2.0</td>\n",
              "      <td>D</td>\n",
              "    </tr>\n",
              "    <tr>\n",
              "      <th>1</th>\n",
              "      <td>8.63789</td>\n",
              "      <td>-80.05302</td>\n",
              "      <td>303.2</td>\n",
              "      <td>0.45</td>\n",
              "      <td>0.63</td>\n",
              "      <td>2020-01-04</td>\n",
              "      <td>730</td>\n",
              "      <td>1</td>\n",
              "      <td>VIIRS</td>\n",
              "      <td>n</td>\n",
              "      <td>2.0NRT</td>\n",
              "      <td>288.7</td>\n",
              "      <td>0.8</td>\n",
              "      <td>N</td>\n",
              "    </tr>\n",
              "    <tr>\n",
              "      <th>2</th>\n",
              "      <td>8.37371</td>\n",
              "      <td>-80.43045</td>\n",
              "      <td>331.3</td>\n",
              "      <td>0.40</td>\n",
              "      <td>0.37</td>\n",
              "      <td>2020-01-04</td>\n",
              "      <td>1836</td>\n",
              "      <td>1</td>\n",
              "      <td>VIIRS</td>\n",
              "      <td>n</td>\n",
              "      <td>2.0NRT</td>\n",
              "      <td>303.1</td>\n",
              "      <td>2.4</td>\n",
              "      <td>D</td>\n",
              "    </tr>\n",
              "    <tr>\n",
              "      <th>3</th>\n",
              "      <td>8.38561</td>\n",
              "      <td>-80.66351</td>\n",
              "      <td>341.0</td>\n",
              "      <td>0.40</td>\n",
              "      <td>0.37</td>\n",
              "      <td>2020-01-04</td>\n",
              "      <td>1836</td>\n",
              "      <td>1</td>\n",
              "      <td>VIIRS</td>\n",
              "      <td>n</td>\n",
              "      <td>2.0NRT</td>\n",
              "      <td>302.4</td>\n",
              "      <td>3.7</td>\n",
              "      <td>D</td>\n",
              "    </tr>\n",
              "    <tr>\n",
              "      <th>4</th>\n",
              "      <td>8.44208</td>\n",
              "      <td>-81.80720</td>\n",
              "      <td>334.7</td>\n",
              "      <td>0.44</td>\n",
              "      <td>0.38</td>\n",
              "      <td>2020-01-04</td>\n",
              "      <td>1836</td>\n",
              "      <td>1</td>\n",
              "      <td>VIIRS</td>\n",
              "      <td>n</td>\n",
              "      <td>2.0NRT</td>\n",
              "      <td>303.3</td>\n",
              "      <td>5.9</td>\n",
              "      <td>D</td>\n",
              "    </tr>\n",
              "  </tbody>\n",
              "</table>\n",
              "</div>"
            ],
            "text/plain": [
              "   latitude  longitude  brightness  scan  ...  version bright_t31  frp  daynight\n",
              "0   8.46846  -80.58140       334.2  0.48  ...   2.0NRT      300.5  2.0         D\n",
              "1   8.63789  -80.05302       303.2  0.45  ...   2.0NRT      288.7  0.8         N\n",
              "2   8.37371  -80.43045       331.3  0.40  ...   2.0NRT      303.1  2.4         D\n",
              "3   8.38561  -80.66351       341.0  0.40  ...   2.0NRT      302.4  3.7         D\n",
              "4   8.44208  -81.80720       334.7  0.44  ...   2.0NRT      303.3  5.9         D\n",
              "\n",
              "[5 rows x 14 columns]"
            ]
          },
          "metadata": {
            "tags": []
          },
          "execution_count": 2
        }
      ]
    },
    {
      "cell_type": "markdown",
      "metadata": {
        "id": "cRZ8qNvctptI"
      },
      "source": [
        "# Campos del CSV\n",
        "\n",
        "Latitude: Centro de 1km de pixel de fuego pero no necesariamente la ubicación real del fuego ya que uno o más incendios pueden ser detectados dentro del pixel de 1km.\n",
        "\n",
        "Longitude: Centro de 1km de pixel de fuego pero no necesariamente la ubicación real del fuego ya que uno o más incendios pueden ser detectados dentro del pixel de 1km.\n",
        "\n",
        "Brightness: Canal 21/22 temperatura de brillo del píxel de fuego medido en Kelvin.\n",
        "\n",
        "Scan: El algoritmo produce píxeles de fuego de 1 km, pero los píxeles de MODIS se hacen más grandes hacia el borde de la exploración. El escaneo y el rastreo reflejan el tamaño real de los píxeles.\n",
        "\n",
        "Track: El algoritmo produce píxeles de fuego de 1 km, pero los píxeles de MODIS se hacen más grandes hacia el borde de la exploración. El escaneo y el rastreo reflejan el tamaño real de los píxeles.\n",
        "\n",
        "Acq_Date: Datos de la adquisición de MODIS.\n",
        "\n",
        "Acq_Time: Tiempo de adquisición/sobrepaso del satélite (en UTC).\n",
        "\n",
        "Satellite: A= Aqua y T= Terra\n",
        "\n",
        "Confidence: Este valor se basa en una colección de cantidades de algoritmos intermedios utilizados en el proceso de detección. Tiene por objeto ayudar a los usuarios a calibrar la calidad de los píxeles individuales de puntos calientes/fuego. Las estimaciones de confianza oscilan entre el 0 y el 100% y se les asigna una de las tres clases de fuego (fuego de baja confianza, fuego de confianza nominal o fuego de alta confianza).\n",
        "\n",
        "Version: La versión identifica la colección (por ejemplo, la colección MODIS 6) y la fuente del procesamiento de datos: Near Real-Time (sufijo NRT añadido a la colección) o Standard Processing (sólo la colección).\n",
        "\"6.0NRT\" - Procesamiento NRT de la Colección 6.\n",
        "\"6.0\" - Procesamiento estándar de la Colección 6. Más información sobre las colecciones y sobre las diferencias entre los datos de FIRMS procedentes de LANCE FIRMS y de la Universidad de Maryland.\n",
        "\n",
        "Bright_T31: La temperatura de brillo del canal 31 del píxel de fuego medido en Kelvin.\n",
        "\n",
        "FRP: Representa la potencia de radiación del fuego integrada en los píxeles en MW (megavatios).\n",
        "\n",
        "Type: 0 = presunto incendio de la vegetación\n",
        "1 = volcán activo\n",
        "2 = otra fuente de tierra estática\n",
        "3 = en el mar\n",
        "\n",
        "DayNight: D= Fuego de dia, N= fuego de noche\n",
        "*This attribute is only available for MCD14ML (standard quality) data "
      ]
    },
    {
      "cell_type": "code",
      "metadata": {
        "id": "3cV-sTqNCUpw",
        "outputId": "281bc51a-61c2-4d62-bf3a-5c1c5ebca435",
        "colab": {
          "base_uri": "https://localhost:8080/",
          "height": 414
        }
      },
      "source": [
        "dataset.describe(include='all')"
      ],
      "execution_count": 3,
      "outputs": [
        {
          "output_type": "execute_result",
          "data": {
            "text/html": [
              "<div>\n",
              "<style scoped>\n",
              "    .dataframe tbody tr th:only-of-type {\n",
              "        vertical-align: middle;\n",
              "    }\n",
              "\n",
              "    .dataframe tbody tr th {\n",
              "        vertical-align: top;\n",
              "    }\n",
              "\n",
              "    .dataframe thead th {\n",
              "        text-align: right;\n",
              "    }\n",
              "</style>\n",
              "<table border=\"1\" class=\"dataframe\">\n",
              "  <thead>\n",
              "    <tr style=\"text-align: right;\">\n",
              "      <th></th>\n",
              "      <th>latitude</th>\n",
              "      <th>longitude</th>\n",
              "      <th>brightness</th>\n",
              "      <th>scan</th>\n",
              "      <th>track</th>\n",
              "      <th>acq_date</th>\n",
              "      <th>acq_time</th>\n",
              "      <th>satellite</th>\n",
              "      <th>instrument</th>\n",
              "      <th>confidence</th>\n",
              "      <th>version</th>\n",
              "      <th>bright_t31</th>\n",
              "      <th>frp</th>\n",
              "      <th>daynight</th>\n",
              "    </tr>\n",
              "  </thead>\n",
              "  <tbody>\n",
              "    <tr>\n",
              "      <th>count</th>\n",
              "      <td>9562.000000</td>\n",
              "      <td>9562.000000</td>\n",
              "      <td>9562.000000</td>\n",
              "      <td>9562.000000</td>\n",
              "      <td>9562.000000</td>\n",
              "      <td>9562</td>\n",
              "      <td>9562.000000</td>\n",
              "      <td>9562.0</td>\n",
              "      <td>9562</td>\n",
              "      <td>9562</td>\n",
              "      <td>9562</td>\n",
              "      <td>9562.000000</td>\n",
              "      <td>9562.000000</td>\n",
              "      <td>9562</td>\n",
              "    </tr>\n",
              "    <tr>\n",
              "      <th>unique</th>\n",
              "      <td>NaN</td>\n",
              "      <td>NaN</td>\n",
              "      <td>NaN</td>\n",
              "      <td>NaN</td>\n",
              "      <td>NaN</td>\n",
              "      <td>160</td>\n",
              "      <td>NaN</td>\n",
              "      <td>NaN</td>\n",
              "      <td>1</td>\n",
              "      <td>3</td>\n",
              "      <td>1</td>\n",
              "      <td>NaN</td>\n",
              "      <td>NaN</td>\n",
              "      <td>2</td>\n",
              "    </tr>\n",
              "    <tr>\n",
              "      <th>top</th>\n",
              "      <td>NaN</td>\n",
              "      <td>NaN</td>\n",
              "      <td>NaN</td>\n",
              "      <td>NaN</td>\n",
              "      <td>NaN</td>\n",
              "      <td>2020-04-18</td>\n",
              "      <td>NaN</td>\n",
              "      <td>NaN</td>\n",
              "      <td>VIIRS</td>\n",
              "      <td>n</td>\n",
              "      <td>2.0NRT</td>\n",
              "      <td>NaN</td>\n",
              "      <td>NaN</td>\n",
              "      <td>D</td>\n",
              "    </tr>\n",
              "    <tr>\n",
              "      <th>freq</th>\n",
              "      <td>NaN</td>\n",
              "      <td>NaN</td>\n",
              "      <td>NaN</td>\n",
              "      <td>NaN</td>\n",
              "      <td>NaN</td>\n",
              "      <td>785</td>\n",
              "      <td>NaN</td>\n",
              "      <td>NaN</td>\n",
              "      <td>9562</td>\n",
              "      <td>8501</td>\n",
              "      <td>9562</td>\n",
              "      <td>NaN</td>\n",
              "      <td>NaN</td>\n",
              "      <td>8419</td>\n",
              "    </tr>\n",
              "    <tr>\n",
              "      <th>mean</th>\n",
              "      <td>8.459504</td>\n",
              "      <td>-80.256947</td>\n",
              "      <td>336.688705</td>\n",
              "      <td>0.457771</td>\n",
              "      <td>0.474671</td>\n",
              "      <td>NaN</td>\n",
              "      <td>1711.006275</td>\n",
              "      <td>1.0</td>\n",
              "      <td>NaN</td>\n",
              "      <td>NaN</td>\n",
              "      <td>NaN</td>\n",
              "      <td>297.961378</td>\n",
              "      <td>8.592794</td>\n",
              "      <td>NaN</td>\n",
              "    </tr>\n",
              "    <tr>\n",
              "      <th>std</th>\n",
              "      <td>0.487323</td>\n",
              "      <td>1.243723</td>\n",
              "      <td>12.911473</td>\n",
              "      <td>0.078176</td>\n",
              "      <td>0.104634</td>\n",
              "      <td>NaN</td>\n",
              "      <td>391.725405</td>\n",
              "      <td>0.0</td>\n",
              "      <td>NaN</td>\n",
              "      <td>NaN</td>\n",
              "      <td>NaN</td>\n",
              "      <td>5.949504</td>\n",
              "      <td>12.482302</td>\n",
              "      <td>NaN</td>\n",
              "    </tr>\n",
              "    <tr>\n",
              "      <th>min</th>\n",
              "      <td>7.210370</td>\n",
              "      <td>-83.061880</td>\n",
              "      <td>207.900000</td>\n",
              "      <td>0.320000</td>\n",
              "      <td>0.360000</td>\n",
              "      <td>NaN</td>\n",
              "      <td>548.000000</td>\n",
              "      <td>1.0</td>\n",
              "      <td>NaN</td>\n",
              "      <td>NaN</td>\n",
              "      <td>NaN</td>\n",
              "      <td>250.300000</td>\n",
              "      <td>0.200000</td>\n",
              "      <td>NaN</td>\n",
              "    </tr>\n",
              "    <tr>\n",
              "      <th>25%</th>\n",
              "      <td>8.188430</td>\n",
              "      <td>-81.131052</td>\n",
              "      <td>332.400000</td>\n",
              "      <td>0.400000</td>\n",
              "      <td>0.390000</td>\n",
              "      <td>NaN</td>\n",
              "      <td>1812.000000</td>\n",
              "      <td>1.0</td>\n",
              "      <td>NaN</td>\n",
              "      <td>NaN</td>\n",
              "      <td>NaN</td>\n",
              "      <td>294.300000</td>\n",
              "      <td>3.300000</td>\n",
              "      <td>NaN</td>\n",
              "    </tr>\n",
              "    <tr>\n",
              "      <th>50%</th>\n",
              "      <td>8.466970</td>\n",
              "      <td>-80.368595</td>\n",
              "      <td>337.100000</td>\n",
              "      <td>0.440000</td>\n",
              "      <td>0.450000</td>\n",
              "      <td>NaN</td>\n",
              "      <td>1842.000000</td>\n",
              "      <td>1.0</td>\n",
              "      <td>NaN</td>\n",
              "      <td>NaN</td>\n",
              "      <td>NaN</td>\n",
              "      <td>298.100000</td>\n",
              "      <td>5.500000</td>\n",
              "      <td>NaN</td>\n",
              "    </tr>\n",
              "    <tr>\n",
              "      <th>75%</th>\n",
              "      <td>8.845150</td>\n",
              "      <td>-79.293842</td>\n",
              "      <td>343.000000</td>\n",
              "      <td>0.510000</td>\n",
              "      <td>0.540000</td>\n",
              "      <td>NaN</td>\n",
              "      <td>1900.000000</td>\n",
              "      <td>1.0</td>\n",
              "      <td>NaN</td>\n",
              "      <td>NaN</td>\n",
              "      <td>NaN</td>\n",
              "      <td>301.800000</td>\n",
              "      <td>9.300000</td>\n",
              "      <td>NaN</td>\n",
              "    </tr>\n",
              "    <tr>\n",
              "      <th>max</th>\n",
              "      <td>9.603140</td>\n",
              "      <td>-77.118930</td>\n",
              "      <td>367.000000</td>\n",
              "      <td>0.800000</td>\n",
              "      <td>0.780000</td>\n",
              "      <td>NaN</td>\n",
              "      <td>1936.000000</td>\n",
              "      <td>1.0</td>\n",
              "      <td>NaN</td>\n",
              "      <td>NaN</td>\n",
              "      <td>NaN</td>\n",
              "      <td>346.800000</td>\n",
              "      <td>286.500000</td>\n",
              "      <td>NaN</td>\n",
              "    </tr>\n",
              "  </tbody>\n",
              "</table>\n",
              "</div>"
            ],
            "text/plain": [
              "           latitude    longitude  ...          frp  daynight\n",
              "count   9562.000000  9562.000000  ...  9562.000000      9562\n",
              "unique          NaN          NaN  ...          NaN         2\n",
              "top             NaN          NaN  ...          NaN         D\n",
              "freq            NaN          NaN  ...          NaN      8419\n",
              "mean       8.459504   -80.256947  ...     8.592794       NaN\n",
              "std        0.487323     1.243723  ...    12.482302       NaN\n",
              "min        7.210370   -83.061880  ...     0.200000       NaN\n",
              "25%        8.188430   -81.131052  ...     3.300000       NaN\n",
              "50%        8.466970   -80.368595  ...     5.500000       NaN\n",
              "75%        8.845150   -79.293842  ...     9.300000       NaN\n",
              "max        9.603140   -77.118930  ...   286.500000       NaN\n",
              "\n",
              "[11 rows x 14 columns]"
            ]
          },
          "metadata": {
            "tags": []
          },
          "execution_count": 3
        }
      ]
    },
    {
      "cell_type": "code",
      "metadata": {
        "id": "LpcwFvGGCeDx",
        "outputId": "0db61c32-4027-4369-af44-1b8a01ec8975",
        "colab": {
          "base_uri": "https://localhost:8080/",
          "height": 226
        }
      },
      "source": [
        "dataset.head()"
      ],
      "execution_count": 4,
      "outputs": [
        {
          "output_type": "execute_result",
          "data": {
            "text/html": [
              "<div>\n",
              "<style scoped>\n",
              "    .dataframe tbody tr th:only-of-type {\n",
              "        vertical-align: middle;\n",
              "    }\n",
              "\n",
              "    .dataframe tbody tr th {\n",
              "        vertical-align: top;\n",
              "    }\n",
              "\n",
              "    .dataframe thead th {\n",
              "        text-align: right;\n",
              "    }\n",
              "</style>\n",
              "<table border=\"1\" class=\"dataframe\">\n",
              "  <thead>\n",
              "    <tr style=\"text-align: right;\">\n",
              "      <th></th>\n",
              "      <th>latitude</th>\n",
              "      <th>longitude</th>\n",
              "      <th>brightness</th>\n",
              "      <th>scan</th>\n",
              "      <th>track</th>\n",
              "      <th>acq_date</th>\n",
              "      <th>acq_time</th>\n",
              "      <th>satellite</th>\n",
              "      <th>instrument</th>\n",
              "      <th>confidence</th>\n",
              "      <th>version</th>\n",
              "      <th>bright_t31</th>\n",
              "      <th>frp</th>\n",
              "      <th>daynight</th>\n",
              "    </tr>\n",
              "  </thead>\n",
              "  <tbody>\n",
              "    <tr>\n",
              "      <th>0</th>\n",
              "      <td>8.46846</td>\n",
              "      <td>-80.58140</td>\n",
              "      <td>334.2</td>\n",
              "      <td>0.48</td>\n",
              "      <td>0.40</td>\n",
              "      <td>2020-01-03</td>\n",
              "      <td>1854</td>\n",
              "      <td>1</td>\n",
              "      <td>VIIRS</td>\n",
              "      <td>n</td>\n",
              "      <td>2.0NRT</td>\n",
              "      <td>300.5</td>\n",
              "      <td>2.0</td>\n",
              "      <td>D</td>\n",
              "    </tr>\n",
              "    <tr>\n",
              "      <th>1</th>\n",
              "      <td>8.63789</td>\n",
              "      <td>-80.05302</td>\n",
              "      <td>303.2</td>\n",
              "      <td>0.45</td>\n",
              "      <td>0.63</td>\n",
              "      <td>2020-01-04</td>\n",
              "      <td>730</td>\n",
              "      <td>1</td>\n",
              "      <td>VIIRS</td>\n",
              "      <td>n</td>\n",
              "      <td>2.0NRT</td>\n",
              "      <td>288.7</td>\n",
              "      <td>0.8</td>\n",
              "      <td>N</td>\n",
              "    </tr>\n",
              "    <tr>\n",
              "      <th>2</th>\n",
              "      <td>8.37371</td>\n",
              "      <td>-80.43045</td>\n",
              "      <td>331.3</td>\n",
              "      <td>0.40</td>\n",
              "      <td>0.37</td>\n",
              "      <td>2020-01-04</td>\n",
              "      <td>1836</td>\n",
              "      <td>1</td>\n",
              "      <td>VIIRS</td>\n",
              "      <td>n</td>\n",
              "      <td>2.0NRT</td>\n",
              "      <td>303.1</td>\n",
              "      <td>2.4</td>\n",
              "      <td>D</td>\n",
              "    </tr>\n",
              "    <tr>\n",
              "      <th>3</th>\n",
              "      <td>8.38561</td>\n",
              "      <td>-80.66351</td>\n",
              "      <td>341.0</td>\n",
              "      <td>0.40</td>\n",
              "      <td>0.37</td>\n",
              "      <td>2020-01-04</td>\n",
              "      <td>1836</td>\n",
              "      <td>1</td>\n",
              "      <td>VIIRS</td>\n",
              "      <td>n</td>\n",
              "      <td>2.0NRT</td>\n",
              "      <td>302.4</td>\n",
              "      <td>3.7</td>\n",
              "      <td>D</td>\n",
              "    </tr>\n",
              "    <tr>\n",
              "      <th>4</th>\n",
              "      <td>8.44208</td>\n",
              "      <td>-81.80720</td>\n",
              "      <td>334.7</td>\n",
              "      <td>0.44</td>\n",
              "      <td>0.38</td>\n",
              "      <td>2020-01-04</td>\n",
              "      <td>1836</td>\n",
              "      <td>1</td>\n",
              "      <td>VIIRS</td>\n",
              "      <td>n</td>\n",
              "      <td>2.0NRT</td>\n",
              "      <td>303.3</td>\n",
              "      <td>5.9</td>\n",
              "      <td>D</td>\n",
              "    </tr>\n",
              "  </tbody>\n",
              "</table>\n",
              "</div>"
            ],
            "text/plain": [
              "   latitude  longitude  brightness  scan  ...  version bright_t31  frp  daynight\n",
              "0   8.46846  -80.58140       334.2  0.48  ...   2.0NRT      300.5  2.0         D\n",
              "1   8.63789  -80.05302       303.2  0.45  ...   2.0NRT      288.7  0.8         N\n",
              "2   8.37371  -80.43045       331.3  0.40  ...   2.0NRT      303.1  2.4         D\n",
              "3   8.38561  -80.66351       341.0  0.40  ...   2.0NRT      302.4  3.7         D\n",
              "4   8.44208  -81.80720       334.7  0.44  ...   2.0NRT      303.3  5.9         D\n",
              "\n",
              "[5 rows x 14 columns]"
            ]
          },
          "metadata": {
            "tags": []
          },
          "execution_count": 4
        }
      ]
    },
    {
      "cell_type": "code",
      "metadata": {
        "id": "MsIpMlnwCt3O",
        "outputId": "32a5ae5b-2f38-43af-b488-bdee9ed38e22",
        "colab": {
          "base_uri": "https://localhost:8080/",
          "height": 293
        }
      },
      "source": [
        "dataset.dtypes"
      ],
      "execution_count": 5,
      "outputs": [
        {
          "output_type": "execute_result",
          "data": {
            "text/plain": [
              "latitude      float64\n",
              "longitude     float64\n",
              "brightness    float64\n",
              "scan          float64\n",
              "track         float64\n",
              "acq_date       object\n",
              "acq_time        int64\n",
              "satellite       int64\n",
              "instrument     object\n",
              "confidence     object\n",
              "version        object\n",
              "bright_t31    float64\n",
              "frp           float64\n",
              "daynight       object\n",
              "dtype: object"
            ]
          },
          "metadata": {
            "tags": []
          },
          "execution_count": 5
        }
      ]
    },
    {
      "cell_type": "code",
      "metadata": {
        "id": "hPMmZYSjCk2Q",
        "outputId": "871abfbf-8784-4f4a-d47c-dd63dcb31b37",
        "colab": {
          "base_uri": "https://localhost:8080/",
          "height": 237
        }
      },
      "source": [
        "corr = dataset.corr(method='pearson')\n",
        "print(\"Correlation of the Dataset:\",corr)"
      ],
      "execution_count": 6,
      "outputs": [
        {
          "output_type": "stream",
          "text": [
            "Correlation of the Dataset:             latitude  longitude  brightness  ...  satellite  bright_t31       frp\n",
            "latitude    1.000000   0.325081   -0.015824  ...        NaN   -0.101024  0.047482\n",
            "longitude   0.325081   1.000000   -0.013335  ...        NaN   -0.098030  0.045840\n",
            "brightness -0.015824  -0.013335    1.000000  ...        NaN    0.335470  0.275180\n",
            "scan        0.014815   0.017382   -0.021664  ...        NaN   -0.214779  0.084900\n",
            "track       0.012515   0.021656    0.086986  ...        NaN   -0.431015  0.015573\n",
            "acq_time    0.006215  -0.037254    0.693288  ...        NaN    0.384192  0.188261\n",
            "satellite        NaN        NaN         NaN  ...        NaN         NaN       NaN\n",
            "bright_t31 -0.101024  -0.098030    0.335470  ...        NaN    1.000000  0.187546\n",
            "frp         0.047482   0.045840    0.275180  ...        NaN    0.187546  1.000000\n",
            "\n",
            "[9 rows x 9 columns]\n"
          ],
          "name": "stdout"
        }
      ]
    },
    {
      "cell_type": "code",
      "metadata": {
        "id": "1FVH7xjEC1IE",
        "outputId": "4b98a589-f82e-4ab7-dcb3-d26b521ede27",
        "colab": {
          "base_uri": "https://localhost:8080/",
          "height": 1000
        }
      },
      "source": [
        "f,ax = plt.subplots(figsize=(18, 18))\n",
        "print(\"Plotting correlation:\")\n",
        "sns.heatmap(corr,annot= True, linewidths=.5)"
      ],
      "execution_count": 7,
      "outputs": [
        {
          "output_type": "stream",
          "text": [
            "Plotting correlation:\n"
          ],
          "name": "stdout"
        },
        {
          "output_type": "execute_result",
          "data": {
            "text/plain": [
              "<matplotlib.axes._subplots.AxesSubplot at 0x7fac3a9c2438>"
            ]
          },
          "metadata": {
            "tags": []
          },
          "execution_count": 7
        },
        {
          "output_type": "display_data",
          "data": {
            "image/png": "[encoded data removed]",
            "text/plain": [
              "<Figure size 1296x1296 with 2 Axes>"
            ]
          },
          "metadata": {
            "tags": [],
            "needs_background": "light"
          }
        }
      ]
    },
    {
      "cell_type": "code",
      "metadata": {
        "id": "wM5IEdBAKcyy"
      },
      "source": [
        "data = dataset.values\n",
        "\n",
        "X = data[:,0:4]\n",
        "Y = data[:,4]"
      ],
      "execution_count": 8,
      "outputs": []
    },
    {
      "cell_type": "code",
      "metadata": {
        "id": "gkcRaSnuKQO8",
        "outputId": "6571418e-a9d4-4b50-bf22-8f3541935ea1",
        "colab": {
          "base_uri": "https://localhost:8080/",
          "height": 72
        }
      },
      "source": [
        "extraTreesRegressor = ExtraTreesRegressor()\n",
        "rfe = RFE(extraTreesRegressor,5)\n",
        "fit = rfe.fit(X,Y)\n",
        "print(\"The number of features:\", fit.n_features_)\n",
        "print(\"Selected Features:\", fit.support_)\n",
        "print(\"Feature Rankings:\", fit.ranking_)"
      ],
      "execution_count": 9,
      "outputs": [
        {
          "output_type": "stream",
          "text": [
            "The number of features: 4\n",
            "Selected Features: [ True  True  True  True]\n",
            "Feature Rankings: [1 1 1 1]\n"
          ],
          "name": "stdout"
        }
      ]
    },
    {
      "cell_type": "code",
      "metadata": {
        "id": "MzyTZGXYK7er",
        "outputId": "d67b7f1e-445c-459f-dc94-7e7e754bc2c0",
        "colab": {
          "base_uri": "https://localhost:8080/",
          "height": 523
        }
      },
      "source": [
        "dataset.plot(kind='area', subplots=True, layout=(4,4))"
      ],
      "execution_count": 14,
      "outputs": [
        {
          "output_type": "execute_result",
          "data": {
            "text/plain": [
              "array([[<matplotlib.axes._subplots.AxesSubplot object at 0x7fac3666e518>,\n",
              "        <matplotlib.axes._subplots.AxesSubplot object at 0x7fac36338f28>,\n",
              "        <matplotlib.axes._subplots.AxesSubplot object at 0x7fac3615b748>,\n",
              "        <matplotlib.axes._subplots.AxesSubplot object at 0x7fac35f877b8>],\n",
              "       [<matplotlib.axes._subplots.AxesSubplot object at 0x7fac35f6d828>,\n",
              "        <matplotlib.axes._subplots.AxesSubplot object at 0x7fac35ecb9b0>,\n",
              "        <matplotlib.axes._subplots.AxesSubplot object at 0x7fac35e819b0>,\n",
              "        <matplotlib.axes._subplots.AxesSubplot object at 0x7fac35e35978>],\n",
              "       [<matplotlib.axes._subplots.AxesSubplot object at 0x7fac35e359e8>,\n",
              "        <matplotlib.axes._subplots.AxesSubplot object at 0x7fac35da19b0>,\n",
              "        <matplotlib.axes._subplots.AxesSubplot object at 0x7fac35d55c18>,\n",
              "        <matplotlib.axes._subplots.AxesSubplot object at 0x7fac35d88e80>],\n",
              "       [<matplotlib.axes._subplots.AxesSubplot object at 0x7fac35d49128>,\n",
              "        <matplotlib.axes._subplots.AxesSubplot object at 0x7fac35cfe390>,\n",
              "        <matplotlib.axes._subplots.AxesSubplot object at 0x7fac35cb25f8>,\n",
              "        <matplotlib.axes._subplots.AxesSubplot object at 0x7fac35c65860>]],\n",
              "      dtype=object)"
            ]
          },
          "metadata": {
            "tags": []
          },
          "execution_count": 14
        },
        {
          "output_type": "display_data",
          "data": {
            "image/png": "[encoded data removed]",
            "text/plain": [
              "<Figure size 432x288 with 16 Axes>"
            ]
          },
          "metadata": {
            "tags": [],
            "needs_background": "light"
          }
        }
      ]
    },
    {
      "cell_type": "code",
      "metadata": {
        "id": "VGrTUy-uLTv8",
        "outputId": "a7ce5bc1-3995-4712-9969-fd06c6cac765",
        "colab": {
          "base_uri": "https://localhost:8080/",
          "height": 72
        }
      },
      "source": [
        "print(\"Linear Regression\")\n",
        "Lreg = LinearRegression()\n",
        "Lreg.fit(X,Y)\n",
        "prediction = Lreg.predict(X)\n",
        "score = explained_variance_score(Y, prediction)\n",
        "mae = mean_absolute_error(prediction, Y)\n",
        "\n",
        "print(\"Score:\", score)\n",
        "print(\"Mean Absolute Error:\", mae)"
      ],
      "execution_count": 15,
      "outputs": [
        {
          "output_type": "stream",
          "text": [
            "Linear Regression\n",
            "Score: 0.1896616472305248\n",
            "Mean Absolute Error: 0.07729759065931358\n"
          ],
          "name": "stdout"
        }
      ]
    },
    {
      "cell_type": "code",
      "metadata": {
        "id": "eq5jf8cPLunj",
        "outputId": "fbb6bccd-f0a7-46ee-a36f-b697d6ff7891",
        "colab": {
          "base_uri": "https://localhost:8080/",
          "height": 72
        }
      },
      "source": [
        "print(\"Ridge Regression\")\n",
        "ridge = Ridge()\n",
        "ridge.fit(X,Y)\n",
        "prediction_ridge = ridge.predict(X)\n",
        "score = explained_variance_score(Y, prediction_ridge)\n",
        "mae = mean_absolute_error(prediction_ridge, Y)\n",
        "\n",
        "print(\"Score:\", score)\n",
        "print(\"Mean Absolute Error:\", mae)\n"
      ],
      "execution_count": 22,
      "outputs": [
        {
          "output_type": "stream",
          "text": [
            "Ridge Regression\n",
            "Score: 0.1896101694936504\n",
            "Mean Absolute Error: 0.07727395150687238\n"
          ],
          "name": "stdout"
        }
      ]
    },
    {
      "cell_type": "code",
      "metadata": {
        "id": "JkVfdtnpLxkJ",
        "outputId": "bb3840b4-2187-48f9-f12a-0e89b81d919a",
        "colab": {
          "base_uri": "https://localhost:8080/",
          "height": 72
        }
      },
      "source": [
        "print('K-Neighbors Regressor')\n",
        "knreg = KNeighborsRegressor()\n",
        "knreg.fit(X,Y)\n",
        "prediction_knreg = knreg.predict(X)\n",
        "score = explained_variance_score(Y, prediction_knreg)\n",
        "mae = mean_absolute_error(prediction_knreg, Y)\n",
        "\n",
        "print(\"Score:\", score)\n",
        "print(\"Mean Absolute Error:\", mae)"
      ],
      "execution_count": 18,
      "outputs": [
        {
          "output_type": "stream",
          "text": [
            "K-Neighbors Regressor\n",
            "Score: 0.3787900383449828\n",
            "Mean Absolute Error: 0.06406337586279022\n"
          ],
          "name": "stdout"
        }
      ]
    },
    {
      "cell_type": "code",
      "metadata": {
        "id": "vZ6ZTw0EL5JP",
        "outputId": "e8afc9f6-937d-45e0-db39-a3e1e5e6164c",
        "colab": {
          "base_uri": "https://localhost:8080/",
          "height": 72
        }
      },
      "source": [
        "print('Random Forest Regressor')\n",
        "rfreg = RandomForestRegressor()\n",
        "rfreg.fit(X,Y)\n",
        "prediction_rfreg = rfreg.predict(X)\n",
        "score = explained_variance_score(Y, prediction_rfreg)\n",
        "mae = mean_absolute_error(prediction_rfreg, Y)\n",
        "\n",
        "print(\"Score:\", score)\n",
        "print(\"Mean Absolute Error:\", mae)"
      ],
      "execution_count": 19,
      "outputs": [
        {
          "output_type": "stream",
          "text": [
            "Random Forest Regressor\n",
            "Score: 0.9705518753166584\n",
            "Mean Absolute Error: 0.010158366450533434\n"
          ],
          "name": "stdout"
        }
      ]
    },
    {
      "cell_type": "code",
      "metadata": {
        "id": "zHoci6yDMCSG",
        "outputId": "95d6e180-a829-4f5d-98ac-81db4f1602ad",
        "colab": {
          "base_uri": "https://localhost:8080/",
          "height": 72
        }
      },
      "source": [
        "print('Support Vector Regressor')\n",
        "svr = SVR()\n",
        "svr.fit(X,Y)\n",
        "prediction_svr = svr.predict(X)\n",
        "score = explained_variance_score(Y, prediction_svr)\n",
        "mae = mean_absolute_error(prediction_svr, Y)\n",
        "\n",
        "print(\"Score:\", score)\n",
        "print(\"Mean Absolute Error:\", mae)"
      ],
      "execution_count": 26,
      "outputs": [
        {
          "output_type": "stream",
          "text": [
            "Support Vector Regressor\n",
            "Score: 0.03659727675366231\n",
            "Mean Absolute Error: 0.08431708298481592\n"
          ],
          "name": "stdout"
        }
      ]
    }
  ]
}