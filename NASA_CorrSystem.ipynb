{
  "nbformat": 4,
  "nbformat_minor": 0,
  "metadata": {
    "colab": {
      "name": "NASA_CorrSystem.ipynb",
      "provenance": [],
      "collapsed_sections": []
    },
    "kernelspec": {
      "name": "python3",
      "display_name": "Python 3"
    }
  },
  "cells": [
    {
      "cell_type": "markdown",
      "metadata": {
        "id": "30hvkCRwwBaO"
      },
      "source": [
        "# Datos Basados por la NASA\n",
        "https://earthdata.nasa.gov/earth-observation-data/near-real-time/firms/c6-mcd14dl#ed-firms-attributes\n"
      ]
    },
    {
      "cell_type": "code",
      "metadata": {
        "id": "K46ALZ-ICLXa"
      },
      "source": [
        "# This Python 3 environment comes with many helpful analytics libraries installed\n",
        "# It is defined by the kaggle/python docker image: https://github.com/kaggle/docker-python\n",
        "# For example, here's several helpful packages to load in \n",
        "\n",
        "import numpy as np # linear algebra\n",
        "import pandas as pd # data processing, CSV file I/O (e.g. pd.read_csv)\n",
        "import seaborn as sns\n",
        "import matplotlib.pyplot as plt\n",
        "from sklearn.feature_selection import RFE\n",
        "from sklearn.ensemble import ExtraTreesRegressor\n",
        "from sklearn.linear_model import LinearRegression\n",
        "from sklearn.linear_model import Lasso\n",
        "from sklearn.linear_model import Ridge\n",
        "from sklearn.metrics import explained_variance_score\n",
        "from sklearn.metrics import mean_absolute_error\n",
        "from sklearn.neighbors import KNeighborsRegressor\n",
        "from sklearn.ensemble import RandomForestRegressor\n",
        "from sklearn.svm import SVR"
      ],
      "execution_count": 1,
      "outputs": []
    },
    {
      "cell_type": "code",
      "metadata": {
        "id": "YmrNiQuyCNe2",
        "outputId": "a2f279f9-d620-451d-ba05-501688938d0f",
        "colab": {
          "base_uri": "https://localhost:8080/",
          "height": 206
        }
      },
      "source": [
        "dataset = pd.read_csv('fires_nrt_J1V-C2_157472.csv')\n",
        "dataset.head()"
      ],
      "execution_count": 38,
      "outputs": [
        {
          "output_type": "execute_result",
          "data": {
            "text/html": [
              "<div>\n",
              "<style scoped>\n",
              "    .dataframe tbody tr th:only-of-type {\n",
              "        vertical-align: middle;\n",
              "    }\n",
              "\n",
              "    .dataframe tbody tr th {\n",
              "        vertical-align: top;\n",
              "    }\n",
              "\n",
              "    .dataframe thead th {\n",
              "        text-align: right;\n",
              "    }\n",
              "</style>\n",
              "<table border=\"1\" class=\"dataframe\">\n",
              "  <thead>\n",
              "    <tr style=\"text-align: right;\">\n",
              "      <th></th>\n",
              "      <th>latitude</th>\n",
              "      <th>longitude</th>\n",
              "      <th>brightness</th>\n",
              "      <th>scan</th>\n",
              "      <th>track</th>\n",
              "      <th>bright_t31</th>\n",
              "      <th>frp</th>\n",
              "      <th>daynight</th>\n",
              "    </tr>\n",
              "  </thead>\n",
              "  <tbody>\n",
              "    <tr>\n",
              "      <th>0</th>\n",
              "      <td>7.21037</td>\n",
              "      <td>-80.83430</td>\n",
              "      <td>340.7</td>\n",
              "      <td>0.53</td>\n",
              "      <td>0.67</td>\n",
              "      <td>294.8</td>\n",
              "      <td>6.4</td>\n",
              "      <td>D</td>\n",
              "    </tr>\n",
              "    <tr>\n",
              "      <th>1</th>\n",
              "      <td>7.21637</td>\n",
              "      <td>-80.70841</td>\n",
              "      <td>335.3</td>\n",
              "      <td>0.47</td>\n",
              "      <td>0.48</td>\n",
              "      <td>295.0</td>\n",
              "      <td>3.2</td>\n",
              "      <td>D</td>\n",
              "    </tr>\n",
              "    <tr>\n",
              "      <th>2</th>\n",
              "      <td>7.21778</td>\n",
              "      <td>-80.68247</td>\n",
              "      <td>340.1</td>\n",
              "      <td>0.56</td>\n",
              "      <td>0.43</td>\n",
              "      <td>300.7</td>\n",
              "      <td>12.1</td>\n",
              "      <td>D</td>\n",
              "    </tr>\n",
              "    <tr>\n",
              "      <th>3</th>\n",
              "      <td>7.21887</td>\n",
              "      <td>-80.74779</td>\n",
              "      <td>348.6</td>\n",
              "      <td>0.47</td>\n",
              "      <td>0.40</td>\n",
              "      <td>295.7</td>\n",
              "      <td>7.9</td>\n",
              "      <td>D</td>\n",
              "    </tr>\n",
              "    <tr>\n",
              "      <th>4</th>\n",
              "      <td>7.22251</td>\n",
              "      <td>-80.74829</td>\n",
              "      <td>340.6</td>\n",
              "      <td>0.47</td>\n",
              "      <td>0.40</td>\n",
              "      <td>295.8</td>\n",
              "      <td>7.9</td>\n",
              "      <td>D</td>\n",
              "    </tr>\n",
              "  </tbody>\n",
              "</table>\n",
              "</div>"
            ],
            "text/plain": [
              "   latitude  longitude  brightness  scan  track  bright_t31   frp daynight\n",
              "0   7.21037  -80.83430       340.7  0.53   0.67       294.8   6.4        D\n",
              "1   7.21637  -80.70841       335.3  0.47   0.48       295.0   3.2        D\n",
              "2   7.21778  -80.68247       340.1  0.56   0.43       300.7  12.1        D\n",
              "3   7.21887  -80.74779       348.6  0.47   0.40       295.7   7.9        D\n",
              "4   7.22251  -80.74829       340.6  0.47   0.40       295.8   7.9        D"
            ]
          },
          "metadata": {
            "tags": []
          },
          "execution_count": 38
        }
      ]
    },
    {
      "cell_type": "markdown",
      "metadata": {
        "id": "cRZ8qNvctptI"
      },
      "source": [
        "# Campos del CSV\n",
        "\n",
        "Latitude: Centro de 1km de pixel de fuego pero no necesariamente la ubicación real del fuego ya que uno o más incendios pueden ser detectados dentro del pixel de 1km.\n",
        "\n",
        "Longitude: Centro de 1km de pixel de fuego pero no necesariamente la ubicación real del fuego ya que uno o más incendios pueden ser detectados dentro del pixel de 1km.\n",
        "\n",
        "Brightness: Canal 21/22 temperatura de brillo del píxel de fuego medido en Kelvin.\n",
        "\n",
        "Scan: El algoritmo produce píxeles de fuego de 1 km, pero los píxeles de MODIS se hacen más grandes hacia el borde de la exploración. El escaneo y el rastreo reflejan el tamaño real de los píxeles.\n",
        "\n",
        "Track: El algoritmo produce píxeles de fuego de 1 km, pero los píxeles de MODIS se hacen más grandes hacia el borde de la exploración. El escaneo y el rastreo reflejan el tamaño real de los píxeles.\n",
        "\n",
        "Acq_Date: Datos de la adquisición de MODIS.\n",
        "\n",
        "Acq_Time: Tiempo de adquisición/sobrepaso del satélite (en UTC).\n",
        "\n",
        "Satellite: A= Aqua y T= Terra\n",
        "\n",
        "Confidence: Este valor se basa en una colección de cantidades de algoritmos intermedios utilizados en el proceso de detección. Tiene por objeto ayudar a los usuarios a calibrar la calidad de los píxeles individuales de puntos calientes/fuego. Las estimaciones de confianza oscilan entre el 0 y el 100% y se les asigna una de las tres clases de fuego (fuego de baja confianza, fuego de confianza nominal o fuego de alta confianza).\n",
        "\n",
        "Version: La versión identifica la colección (por ejemplo, la colección MODIS 6) y la fuente del procesamiento de datos: Near Real-Time (sufijo NRT añadido a la colección) o Standard Processing (sólo la colección).\n",
        "\"6.0NRT\" - Procesamiento NRT de la Colección 6.\n",
        "\"6.0\" - Procesamiento estándar de la Colección 6. Más información sobre las colecciones y sobre las diferencias entre los datos de FIRMS procedentes de LANCE FIRMS y de la Universidad de Maryland.\n",
        "\n",
        "Bright_T31: La temperatura de brillo del canal 31 del píxel de fuego medido en Kelvin.\n",
        "\n",
        "FRP: Representa la potencia de radiación del fuego integrada en los píxeles en MW (megavatios).\n",
        "\n",
        "Type: 0 = presunto incendio de la vegetación\n",
        "1 = volcán activo\n",
        "2 = otra fuente de tierra estática\n",
        "3 = en el mar\n",
        "\n",
        "DayNight: D= Fuego de dia, N= fuego de noche\n",
        "*This attribute is only available for MCD14ML (standard quality) data "
      ]
    },
    {
      "cell_type": "code",
      "metadata": {
        "id": "3cV-sTqNCUpw",
        "outputId": "93ac4646-6c64-4756-9928-27c2ac11e8e5",
        "colab": {
          "base_uri": "https://localhost:8080/",
          "height": 394
        }
      },
      "source": [
        "dataset.describe(include='all')"
      ],
      "execution_count": 39,
      "outputs": [
        {
          "output_type": "execute_result",
          "data": {
            "text/html": [
              "<div>\n",
              "<style scoped>\n",
              "    .dataframe tbody tr th:only-of-type {\n",
              "        vertical-align: middle;\n",
              "    }\n",
              "\n",
              "    .dataframe tbody tr th {\n",
              "        vertical-align: top;\n",
              "    }\n",
              "\n",
              "    .dataframe thead th {\n",
              "        text-align: right;\n",
              "    }\n",
              "</style>\n",
              "<table border=\"1\" class=\"dataframe\">\n",
              "  <thead>\n",
              "    <tr style=\"text-align: right;\">\n",
              "      <th></th>\n",
              "      <th>latitude</th>\n",
              "      <th>longitude</th>\n",
              "      <th>brightness</th>\n",
              "      <th>scan</th>\n",
              "      <th>track</th>\n",
              "      <th>bright_t31</th>\n",
              "      <th>frp</th>\n",
              "      <th>daynight</th>\n",
              "    </tr>\n",
              "  </thead>\n",
              "  <tbody>\n",
              "    <tr>\n",
              "      <th>count</th>\n",
              "      <td>9562.000000</td>\n",
              "      <td>9562.000000</td>\n",
              "      <td>9562.000000</td>\n",
              "      <td>9562.000000</td>\n",
              "      <td>9562.000000</td>\n",
              "      <td>9562.000000</td>\n",
              "      <td>9562.000000</td>\n",
              "      <td>9562</td>\n",
              "    </tr>\n",
              "    <tr>\n",
              "      <th>unique</th>\n",
              "      <td>NaN</td>\n",
              "      <td>NaN</td>\n",
              "      <td>NaN</td>\n",
              "      <td>NaN</td>\n",
              "      <td>NaN</td>\n",
              "      <td>NaN</td>\n",
              "      <td>NaN</td>\n",
              "      <td>1</td>\n",
              "    </tr>\n",
              "    <tr>\n",
              "      <th>top</th>\n",
              "      <td>NaN</td>\n",
              "      <td>NaN</td>\n",
              "      <td>NaN</td>\n",
              "      <td>NaN</td>\n",
              "      <td>NaN</td>\n",
              "      <td>NaN</td>\n",
              "      <td>NaN</td>\n",
              "      <td>D</td>\n",
              "    </tr>\n",
              "    <tr>\n",
              "      <th>freq</th>\n",
              "      <td>NaN</td>\n",
              "      <td>NaN</td>\n",
              "      <td>NaN</td>\n",
              "      <td>NaN</td>\n",
              "      <td>NaN</td>\n",
              "      <td>NaN</td>\n",
              "      <td>NaN</td>\n",
              "      <td>9562</td>\n",
              "    </tr>\n",
              "    <tr>\n",
              "      <th>mean</th>\n",
              "      <td>8.459504</td>\n",
              "      <td>-80.256947</td>\n",
              "      <td>336.688705</td>\n",
              "      <td>0.457771</td>\n",
              "      <td>0.474671</td>\n",
              "      <td>297.961378</td>\n",
              "      <td>8.592794</td>\n",
              "      <td>NaN</td>\n",
              "    </tr>\n",
              "    <tr>\n",
              "      <th>std</th>\n",
              "      <td>0.487323</td>\n",
              "      <td>1.243723</td>\n",
              "      <td>12.911473</td>\n",
              "      <td>0.078176</td>\n",
              "      <td>0.104634</td>\n",
              "      <td>5.949504</td>\n",
              "      <td>12.482302</td>\n",
              "      <td>NaN</td>\n",
              "    </tr>\n",
              "    <tr>\n",
              "      <th>min</th>\n",
              "      <td>7.210370</td>\n",
              "      <td>-83.061880</td>\n",
              "      <td>207.900000</td>\n",
              "      <td>0.320000</td>\n",
              "      <td>0.360000</td>\n",
              "      <td>250.300000</td>\n",
              "      <td>0.200000</td>\n",
              "      <td>NaN</td>\n",
              "    </tr>\n",
              "    <tr>\n",
              "      <th>25%</th>\n",
              "      <td>8.188430</td>\n",
              "      <td>-81.131052</td>\n",
              "      <td>332.400000</td>\n",
              "      <td>0.400000</td>\n",
              "      <td>0.390000</td>\n",
              "      <td>294.300000</td>\n",
              "      <td>3.300000</td>\n",
              "      <td>NaN</td>\n",
              "    </tr>\n",
              "    <tr>\n",
              "      <th>50%</th>\n",
              "      <td>8.466970</td>\n",
              "      <td>-80.368595</td>\n",
              "      <td>337.100000</td>\n",
              "      <td>0.440000</td>\n",
              "      <td>0.450000</td>\n",
              "      <td>298.100000</td>\n",
              "      <td>5.500000</td>\n",
              "      <td>NaN</td>\n",
              "    </tr>\n",
              "    <tr>\n",
              "      <th>75%</th>\n",
              "      <td>8.845150</td>\n",
              "      <td>-79.293842</td>\n",
              "      <td>343.000000</td>\n",
              "      <td>0.510000</td>\n",
              "      <td>0.540000</td>\n",
              "      <td>301.800000</td>\n",
              "      <td>9.300000</td>\n",
              "      <td>NaN</td>\n",
              "    </tr>\n",
              "    <tr>\n",
              "      <th>max</th>\n",
              "      <td>9.603140</td>\n",
              "      <td>-77.118930</td>\n",
              "      <td>367.000000</td>\n",
              "      <td>0.800000</td>\n",
              "      <td>0.780000</td>\n",
              "      <td>346.800000</td>\n",
              "      <td>286.500000</td>\n",
              "      <td>NaN</td>\n",
              "    </tr>\n",
              "  </tbody>\n",
              "</table>\n",
              "</div>"
            ],
            "text/plain": [
              "           latitude    longitude  ...          frp  daynight\n",
              "count   9562.000000  9562.000000  ...  9562.000000      9562\n",
              "unique          NaN          NaN  ...          NaN         1\n",
              "top             NaN          NaN  ...          NaN         D\n",
              "freq            NaN          NaN  ...          NaN      9562\n",
              "mean       8.459504   -80.256947  ...     8.592794       NaN\n",
              "std        0.487323     1.243723  ...    12.482302       NaN\n",
              "min        7.210370   -83.061880  ...     0.200000       NaN\n",
              "25%        8.188430   -81.131052  ...     3.300000       NaN\n",
              "50%        8.466970   -80.368595  ...     5.500000       NaN\n",
              "75%        8.845150   -79.293842  ...     9.300000       NaN\n",
              "max        9.603140   -77.118930  ...   286.500000       NaN\n",
              "\n",
              "[11 rows x 8 columns]"
            ]
          },
          "metadata": {
            "tags": []
          },
          "execution_count": 39
        }
      ]
    },
    {
      "cell_type": "code",
      "metadata": {
        "id": "LpcwFvGGCeDx",
        "outputId": "a7becca4-c01d-4ce0-b9e8-f65f63568710",
        "colab": {
          "base_uri": "https://localhost:8080/",
          "height": 206
        }
      },
      "source": [
        "dataset.head()"
      ],
      "execution_count": 40,
      "outputs": [
        {
          "output_type": "execute_result",
          "data": {
            "text/html": [
              "<div>\n",
              "<style scoped>\n",
              "    .dataframe tbody tr th:only-of-type {\n",
              "        vertical-align: middle;\n",
              "    }\n",
              "\n",
              "    .dataframe tbody tr th {\n",
              "        vertical-align: top;\n",
              "    }\n",
              "\n",
              "    .dataframe thead th {\n",
              "        text-align: right;\n",
              "    }\n",
              "</style>\n",
              "<table border=\"1\" class=\"dataframe\">\n",
              "  <thead>\n",
              "    <tr style=\"text-align: right;\">\n",
              "      <th></th>\n",
              "      <th>latitude</th>\n",
              "      <th>longitude</th>\n",
              "      <th>brightness</th>\n",
              "      <th>scan</th>\n",
              "      <th>track</th>\n",
              "      <th>bright_t31</th>\n",
              "      <th>frp</th>\n",
              "      <th>daynight</th>\n",
              "    </tr>\n",
              "  </thead>\n",
              "  <tbody>\n",
              "    <tr>\n",
              "      <th>0</th>\n",
              "      <td>7.21037</td>\n",
              "      <td>-80.83430</td>\n",
              "      <td>340.7</td>\n",
              "      <td>0.53</td>\n",
              "      <td>0.67</td>\n",
              "      <td>294.8</td>\n",
              "      <td>6.4</td>\n",
              "      <td>D</td>\n",
              "    </tr>\n",
              "    <tr>\n",
              "      <th>1</th>\n",
              "      <td>7.21637</td>\n",
              "      <td>-80.70841</td>\n",
              "      <td>335.3</td>\n",
              "      <td>0.47</td>\n",
              "      <td>0.48</td>\n",
              "      <td>295.0</td>\n",
              "      <td>3.2</td>\n",
              "      <td>D</td>\n",
              "    </tr>\n",
              "    <tr>\n",
              "      <th>2</th>\n",
              "      <td>7.21778</td>\n",
              "      <td>-80.68247</td>\n",
              "      <td>340.1</td>\n",
              "      <td>0.56</td>\n",
              "      <td>0.43</td>\n",
              "      <td>300.7</td>\n",
              "      <td>12.1</td>\n",
              "      <td>D</td>\n",
              "    </tr>\n",
              "    <tr>\n",
              "      <th>3</th>\n",
              "      <td>7.21887</td>\n",
              "      <td>-80.74779</td>\n",
              "      <td>348.6</td>\n",
              "      <td>0.47</td>\n",
              "      <td>0.40</td>\n",
              "      <td>295.7</td>\n",
              "      <td>7.9</td>\n",
              "      <td>D</td>\n",
              "    </tr>\n",
              "    <tr>\n",
              "      <th>4</th>\n",
              "      <td>7.22251</td>\n",
              "      <td>-80.74829</td>\n",
              "      <td>340.6</td>\n",
              "      <td>0.47</td>\n",
              "      <td>0.40</td>\n",
              "      <td>295.8</td>\n",
              "      <td>7.9</td>\n",
              "      <td>D</td>\n",
              "    </tr>\n",
              "  </tbody>\n",
              "</table>\n",
              "</div>"
            ],
            "text/plain": [
              "   latitude  longitude  brightness  scan  track  bright_t31   frp daynight\n",
              "0   7.21037  -80.83430       340.7  0.53   0.67       294.8   6.4        D\n",
              "1   7.21637  -80.70841       335.3  0.47   0.48       295.0   3.2        D\n",
              "2   7.21778  -80.68247       340.1  0.56   0.43       300.7  12.1        D\n",
              "3   7.21887  -80.74779       348.6  0.47   0.40       295.7   7.9        D\n",
              "4   7.22251  -80.74829       340.6  0.47   0.40       295.8   7.9        D"
            ]
          },
          "metadata": {
            "tags": []
          },
          "execution_count": 40
        }
      ]
    },
    {
      "cell_type": "code",
      "metadata": {
        "id": "MsIpMlnwCt3O",
        "outputId": "fa35316e-deae-417a-edab-9dff96d40b6a",
        "colab": {
          "base_uri": "https://localhost:8080/",
          "height": 182
        }
      },
      "source": [
        "dataset.dtypes"
      ],
      "execution_count": 41,
      "outputs": [
        {
          "output_type": "execute_result",
          "data": {
            "text/plain": [
              "latitude      float64\n",
              "longitude     float64\n",
              "brightness    float64\n",
              "scan          float64\n",
              "track         float64\n",
              "bright_t31    float64\n",
              "frp           float64\n",
              "daynight       object\n",
              "dtype: object"
            ]
          },
          "metadata": {
            "tags": []
          },
          "execution_count": 41
        }
      ]
    },
    {
      "cell_type": "code",
      "metadata": {
        "id": "hPMmZYSjCk2Q",
        "outputId": "b81c2070-1b1c-4724-a16f-fb56fe45a97f",
        "colab": {
          "base_uri": "https://localhost:8080/",
          "height": 201
        }
      },
      "source": [
        "corr = dataset.corr(method='pearson')\n",
        "print(\"Correlation of the Dataset:\",corr)"
      ],
      "execution_count": 42,
      "outputs": [
        {
          "output_type": "stream",
          "text": [
            "Correlation of the Dataset:             latitude  longitude  brightness  ...     track  bright_t31       frp\n",
            "latitude    1.000000   0.325081   -0.015824  ...  0.012515   -0.101024  0.047482\n",
            "longitude   0.325081   1.000000   -0.013335  ...  0.021656   -0.098030  0.045840\n",
            "brightness -0.015824  -0.013335    1.000000  ...  0.086986    0.335470  0.275180\n",
            "scan        0.014815   0.017382   -0.021664  ...  0.424450   -0.214779  0.084900\n",
            "track       0.012515   0.021656    0.086986  ...  1.000000   -0.431015  0.015573\n",
            "bright_t31 -0.101024  -0.098030    0.335470  ... -0.431015    1.000000  0.187546\n",
            "frp         0.047482   0.045840    0.275180  ...  0.015573    0.187546  1.000000\n",
            "\n",
            "[7 rows x 7 columns]\n"
          ],
          "name": "stdout"
        }
      ]
    },
    {
      "cell_type": "code",
      "metadata": {
        "id": "1FVH7xjEC1IE",
        "outputId": "a0a6f23e-c1a7-4bea-f273-68f49c615689",
        "colab": {
          "base_uri": "https://localhost:8080/",
          "height": 1000
        }
      },
      "source": [
        "f,ax = plt.subplots(figsize=(18, 18))\n",
        "print(\"Plotting correlation:\")\n",
        "sns.heatmap(corr,annot= True, linewidths=.5)"
      ],
      "execution_count": 43,
      "outputs": [
        {
          "output_type": "stream",
          "text": [
            "Plotting correlation:\n"
          ],
          "name": "stdout"
        },
        {
          "output_type": "execute_result",
          "data": {
            "text/plain": [
              "<matplotlib.axes._subplots.AxesSubplot at 0x7fac36fea780>"
            ]
          },
          "metadata": {
            "tags": []
          },
          "execution_count": 43
        },
        {
          "output_type": "display_data",
          "data": {
            "image/png": "[encoded data removed]",
            "text/plain": [
              "<Figure size 1296x1296 with 2 Axes>"
            ]
          },
          "metadata": {
            "tags": [],
            "needs_background": "light"
          }
        }
      ]
    },
    {
      "cell_type": "code",
      "metadata": {
        "id": "wM5IEdBAKcyy"
      },
      "source": [
        "data = dataset.values\n",
        "\n",
        "X = data[:,0:6]\n",
        "Y = data[:,6]"
      ],
      "execution_count": 64,
      "outputs": []
    },
    {
      "cell_type": "code",
      "metadata": {
        "id": "gkcRaSnuKQO8",
        "outputId": "1844b045-5ace-4e52-d728-f22be8dd40ef",
        "colab": {
          "base_uri": "https://localhost:8080/",
          "height": 72
        }
      },
      "source": [
        "extraTreesRegressor = ExtraTreesRegressor()\n",
        "rfe = RFE(extraTreesRegressor,10)\n",
        "fit = rfe.fit(X,Y)\n",
        "print(\"The number of features:\", fit.n_features_)\n",
        "print(\"Selected Features:\", fit.support_)\n",
        "print(\"Feature Rankings:\", fit.ranking_)"
      ],
      "execution_count": 65,
      "outputs": [
        {
          "output_type": "stream",
          "text": [
            "The number of features: 6\n",
            "Selected Features: [ True  True  True  True  True  True]\n",
            "Feature Rankings: [1 1 1 1 1 1]\n"
          ],
          "name": "stdout"
        }
      ]
    },
    {
      "cell_type": "code",
      "metadata": {
        "id": "MzyTZGXYK7er",
        "outputId": "56135d04-a31f-4764-bd4e-dc8a5a51104d",
        "colab": {
          "base_uri": "https://localhost:8080/",
          "height": 468
        }
      },
      "source": [
        "dataset.plot(kind='density', subplots=True, layout=(4,4))"
      ],
      "execution_count": 66,
      "outputs": [
        {
          "output_type": "execute_result",
          "data": {
            "text/plain": [
              "array([[<matplotlib.axes._subplots.AxesSubplot object at 0x7fac35b42550>,\n",
              "        <matplotlib.axes._subplots.AxesSubplot object at 0x7fac33cda400>,\n",
              "        <matplotlib.axes._subplots.AxesSubplot object at 0x7fac33d09630>,\n",
              "        <matplotlib.axes._subplots.AxesSubplot object at 0x7fac33cb8860>],\n",
              "       [<matplotlib.axes._subplots.AxesSubplot object at 0x7fac34064b00>,\n",
              "        <matplotlib.axes._subplots.AxesSubplot object at 0x7fac33c11e48>,\n",
              "        <matplotlib.axes._subplots.AxesSubplot object at 0x7fac33c4d0b8>,\n",
              "        <matplotlib.axes._subplots.AxesSubplot object at 0x7fac33bfb2b0>],\n",
              "       [<matplotlib.axes._subplots.AxesSubplot object at 0x7fac33bfb320>,\n",
              "        <matplotlib.axes._subplots.AxesSubplot object at 0x7fac33b5a9e8>,\n",
              "        <matplotlib.axes._subplots.AxesSubplot object at 0x7fac33b8ed68>,\n",
              "        <matplotlib.axes._subplots.AxesSubplot object at 0x7fac33b4a128>],\n",
              "       [<matplotlib.axes._subplots.AxesSubplot object at 0x7fac33afd4a8>,\n",
              "        <matplotlib.axes._subplots.AxesSubplot object at 0x7fac33aaf828>,\n",
              "        <matplotlib.axes._subplots.AxesSubplot object at 0x7fac33a61ba8>,\n",
              "        <matplotlib.axes._subplots.AxesSubplot object at 0x7fac33a15f28>]],\n",
              "      dtype=object)"
            ]
          },
          "metadata": {
            "tags": []
          },
          "execution_count": 66
        },
        {
          "output_type": "display_data",
          "data": {
            "image/png": "[encoded data removed]",
            "text/plain": [
              "<Figure size 432x288 with 16 Axes>"
            ]
          },
          "metadata": {
            "tags": [],
            "needs_background": "light"
          }
        }
      ]
    },
    {
      "cell_type": "code",
      "metadata": {
        "id": "VGrTUy-uLTv8",
        "outputId": "f3c1d59d-2296-4762-fbf2-7fd7c4025782",
        "colab": {
          "base_uri": "https://localhost:8080/",
          "height": 72
        }
      },
      "source": [
        "print(\"Linear Regression\")\n",
        "Lreg = LinearRegression()\n",
        "Lreg.fit(X,Y)\n",
        "prediction = Lreg.predict(X)\n",
        "score = explained_variance_score(Y, prediction)\n",
        "mae = mean_absolute_error(prediction, Y)\n",
        "\n",
        "print(\"Score:\", score)\n",
        "print(\"Mean Absolute Error:\", mae)"
      ],
      "execution_count": 67,
      "outputs": [
        {
          "output_type": "stream",
          "text": [
            "Linear Regression\n",
            "Score: 0.1052741457401366\n",
            "Mean Absolute Error: 5.453989006516854\n"
          ],
          "name": "stdout"
        }
      ]
    },
    {
      "cell_type": "code",
      "metadata": {
        "id": "eq5jf8cPLunj",
        "outputId": "db5755ee-7b6b-4dc0-ef41-29efe6961de4",
        "colab": {
          "base_uri": "https://localhost:8080/",
          "height": 72
        }
      },
      "source": [
        "print(\"Ridge Regression\")\n",
        "ridge = Ridge()\n",
        "ridge.fit(X,Y)\n",
        "prediction_ridge = ridge.predict(X)\n",
        "score = explained_variance_score(Y, prediction_ridge)\n",
        "mae = mean_absolute_error(prediction_ridge, Y)\n",
        "\n",
        "print(\"Score:\", score)\n",
        "print(\"Mean Absolute Error:\", mae)\n"
      ],
      "execution_count": 68,
      "outputs": [
        {
          "output_type": "stream",
          "text": [
            "Ridge Regression\n",
            "Score: 0.10526964107533188\n",
            "Mean Absolute Error: 5.452899303556451\n"
          ],
          "name": "stdout"
        }
      ]
    },
    {
      "cell_type": "code",
      "metadata": {
        "id": "JkVfdtnpLxkJ",
        "outputId": "a765a840-b77e-4642-e298-16d144d9f9ea",
        "colab": {
          "base_uri": "https://localhost:8080/",
          "height": 72
        }
      },
      "source": [
        "print('K-Neighbors Regressor')\n",
        "knreg = KNeighborsRegressor()\n",
        "knreg.fit(X,Y)\n",
        "prediction_knreg = knreg.predict(X)\n",
        "score = explained_variance_score(Y, prediction_knreg)\n",
        "mae = mean_absolute_error(prediction_knreg, Y)\n",
        "\n",
        "print(\"Score:\", score)\n",
        "print(\"Mean Absolute Error:\", mae)"
      ],
      "execution_count": 69,
      "outputs": [
        {
          "output_type": "stream",
          "text": [
            "K-Neighbors Regressor\n",
            "Score: 0.34393369969476595\n",
            "Mean Absolute Error: 4.500351390922401\n"
          ],
          "name": "stdout"
        }
      ]
    },
    {
      "cell_type": "code",
      "metadata": {
        "id": "vZ6ZTw0EL5JP",
        "outputId": "4f4cc96d-934a-43fb-b396-06fd58e26a62",
        "colab": {
          "base_uri": "https://localhost:8080/",
          "height": 72
        }
      },
      "source": [
        "print('Random Forest Regressor')\n",
        "rfreg = RandomForestRegressor()\n",
        "rfreg.fit(X,Y)\n",
        "prediction_rfreg = rfreg.predict(X)\n",
        "score = explained_variance_score(Y, prediction_rfreg)\n",
        "mae = mean_absolute_error(prediction_rfreg, Y)\n",
        "\n",
        "print(\"Score:\", score)\n",
        "print(\"Mean Absolute Error:\", mae)"
      ],
      "execution_count": 70,
      "outputs": [
        {
          "output_type": "stream",
          "text": [
            "Random Forest Regressor\n",
            "Score: 0.88936536987672\n",
            "Mean Absolute Error: 1.783584814892282\n"
          ],
          "name": "stdout"
        }
      ]
    },
    {
      "cell_type": "code",
      "metadata": {
        "id": "zHoci6yDMCSG",
        "outputId": "acb74e20-8aa7-43ff-a705-2bfe3f782bcb",
        "colab": {
          "base_uri": "https://localhost:8080/",
          "height": 72
        }
      },
      "source": [
        "print('Support Vector Regressor')\n",
        "svr = SVR()\n",
        "svr.fit(X,Y)\n",
        "prediction_svr = svr.predict(X)\n",
        "score = explained_variance_score(Y, prediction_svr)\n",
        "mae = mean_absolute_error(prediction_svr, Y)\n",
        "\n",
        "print(\"Score:\", score)\n",
        "print(\"Mean Absolute Error:\", mae)"
      ],
      "execution_count": 71,
      "outputs": [
        {
          "output_type": "stream",
          "text": [
            "Support Vector Regressor\n",
            "Score: 0.0631846145836672\n",
            "Mean Absolute Error: 4.608527175798449\n"
          ],
          "name": "stdout"
        }
      ]
    }
  ]
}